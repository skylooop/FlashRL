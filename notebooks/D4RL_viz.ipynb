{
 "cells": [
  {
   "cell_type": "code",
   "execution_count": 1,
   "id": "ccb80506-b188-40b1-a596-1b4b1dd0f482",
   "metadata": {},
   "outputs": [
    {
     "name": "stderr",
     "output_type": "stream",
     "text": [
      "pybullet build time: May 20 2022 19:45:31\n"
     ]
    }
   ],
   "source": [
    "import warnings\n",
    "warnings.filterwarnings(\"ignore\")\n",
    "\n",
    "import os\n",
    "os.environ['D4RL_SUPPRESS_IMPORT_ERROR'] = '1'\n",
    "\n",
    "import gym\n",
    "import d4rl"
   ]
  },
  {
   "cell_type": "code",
   "execution_count": 2,
   "id": "9fb041e8-e00b-4023-a6a4-f15035c1949e",
   "metadata": {},
   "outputs": [
    {
     "name": "stderr",
     "output_type": "stream",
     "text": [
      "load datafile: 100%|██████████████████████████████████████████████████████████████████████████████████████████████████████████████████| 8/8 [00:00<00:00, 20.86it/s]\n"
     ]
    }
   ],
   "source": [
    "env = gym.make(\"maze2d-umaze-v1\")\n",
    "d4rl_ds = d4rl.qlearning_dataset(env)"
   ]
  },
  {
   "cell_type": "code",
   "execution_count": 3,
   "id": "374e4077-8168-47b3-b663-3c30b4a96a6b",
   "metadata": {},
   "outputs": [],
   "source": [
    "import sys\n",
    "sys.path.append(\"..\")\n",
    "\n",
    "from Pretraining.icvf import create_eqx_learner, eval_ensemble, update, icvf_loss\n",
    "icvf_model = create_eqx_learner(seed=42, observations=d4rl_ds['observations'][0], hidden_dims=[64, 64])"
   ]
  },
  {
   "cell_type": "code",
   "execution_count": 30,
   "id": "25e89c30-3988-4b6f-be9f-11ad6ec5736d",
   "metadata": {},
   "outputs": [],
   "source": [
    "import jax.numpy as jnp\n",
    "import jax\n",
    "\n",
    "indx = jnp.array([0, 3, 6])\n",
    "sample_batch = {\n",
    "    \"observations\": jax.tree_util.tree_map(lambda x: x[indx], d4rl_ds['observations']),\n",
    "    \"next_observations\": jax.tree_util.tree_map(lambda x: x[indx], d4rl_ds['next_observations']),\n",
    "    \"icvf_desired_goals\": jax.tree_util.tree_map(lambda x: x[indx + 2], d4rl_ds['observations']), # = intents\n",
    "    'icvf_goals': jax.tree_util.tree_map(lambda x: x[indx + 3], d4rl_ds['observations']),\n",
    "    \"icvf_rewards\": jnp.array([1.0, 0.0, 1.0]),\n",
    "    \"rewards\": jax.tree_util.tree_map(lambda x: x[indx], d4rl_ds['rewards']),\n",
    "    \"icvf_desired_rewards\": jnp.array([0.5, 0.0, 0.5]),\n",
    "    \"icvf_desired_masks\": jnp.array([0.0, 1.0, 0.0]),\n",
    "    \"icvf_masks\": jnp.array([0.0, 1.0, 0.0]),\n",
    "    \"masks\": jnp.array([0.0, 0.0, 0.0])\n",
    "    \n",
    "}\n"
   ]
  },
  {
   "cell_type": "code",
   "execution_count": 36,
   "id": "2793fe9d-ccdb-45cb-8e59-9856f17cf05b",
   "metadata": {},
   "outputs": [
    {
     "data": {
      "text/plain": [
       "{'abs adv mean': Array(0.28893766, dtype=float32),\n",
       " 'accept prob': Array(0.6666667, dtype=float32),\n",
       " 'adv max': Array(0.4287786, dtype=float32),\n",
       " 'adv mean': Array(0.28251287, dtype=float32),\n",
       " 'adv min': Array(-0.00963718, dtype=float32),\n",
       " 'mask mean': Array(0., dtype=float32),\n",
       " 'q_gz max': Array(1., dtype=float32),\n",
       " 'reward mean': Array(0., dtype=float32),\n",
       " 'v_gz': Array(0.06479023, dtype=float32),\n",
       " 'v_gz max': Array(0.06497146, dtype=float32),\n",
       " 'v_gz min': Array(0.06469387, dtype=float32),\n",
       " 'v_zz': Array(0.07138157, dtype=float32),\n",
       " 'value_loss': Array(1.0294309, dtype=float32),\n",
       " 'value_loss1': Array(0., dtype=float32),\n",
       " 'value_loss2': Array(0.5830263, dtype=float32)}"
      ]
     },
     "execution_count": 36,
     "metadata": {},
     "output_type": "execute_result"
    }
   ],
   "source": [
    "icvf_model, aux = update(icvf_model, sample_batch)\n",
    "aux"
   ]
  },
  {
   "cell_type": "code",
   "execution_count": 3,
   "id": "21abb649-bba8-443b-8ad3-35081eb23f2c",
   "metadata": {},
   "outputs": [
    {
     "name": "stderr",
     "output_type": "stream",
     "text": [
      "/home/m_bobrin/anaconda3/envs/flashrl/lib/python3.9/site-packages/gym/utils/seeding.py:38: DeprecationWarning: \u001b[33mWARN: Function `rng.randn(*size)` is marked as deprecated and will be removed in the future. Please use `rng.standard_normal(size)` instead.\u001b[0m\n",
      "  deprecation(\n"
     ]
    },
    {
     "data": {
      "image/png": "[encoded data removed]",
      "text/plain": [
       "<Figure size 640x480 with 1 Axes>"
      ]
     },
     "metadata": {},
     "output_type": "display_data"
    }
   ],
   "source": [
    "import matplotlib.pyplot as plt\n",
    "from matplotlib.colors import LinearSegmentedColormap, ListedColormap\n",
    "\n",
    "cmap = ListedColormap([\"RosyBrown\", \"White\"])\n",
    "img = env.env.env.maze_arr\n",
    "extent = [\n",
    "        -0.5, img.shape[0]-0.5,\n",
    "        -0.5, img.shape[1]-0.5\n",
    "    ]\n",
    "\n",
    "plt.imshow(img, origin=\"lower\", cmap=cmap, extent=extent)\n",
    "plt.scatter(*env.env.env.get_target(), marker=\"x\", c='red', s=200, zorder=10, linewidths=3)\n",
    "\n",
    "init_state = env.env.env.reset_model()[:2]\n",
    "plt.scatter(*init_state, marker=\"o\", c='royalblue', alpha=0.5)\n",
    "plt.show()"
   ]
  },
  {
   "cell_type": "code",
   "execution_count": 4,
   "id": "9410a6f9-7e2a-4ac0-a886-c28703d7f056",
   "metadata": {},
   "outputs": [
    {
     "name": "stdout",
     "output_type": "stream",
     "text": [
      "Target Goal:  (32.97756252476421, 24.903303970009457)\n"
     ]
    },
    {
     "name": "stderr",
     "output_type": "stream",
     "text": [
      "load datafile: 100%|██████████████████████████████████████████████████████████████████████| 8/8 [00:02<00:00,  3.35it/s]\n"
     ]
    }
   ],
   "source": [
    "env = gym.make(\"antmaze-large-diverse-v2\")\n",
    "d4rl_ds = d4rl.qlearning_dataset(env)"
   ]
  },
  {
   "cell_type": "code",
   "execution_count": 5,
   "id": "da492b3f-36bf-4040-8bbd-888f25c87bd1",
   "metadata": {},
   "outputs": [
    {
     "data": {
      "text/plain": [
       "[[1, 1, 1, 1, 1, 1, 1, 1, 1, 1, 1, 1],\n",
       " [1, 'r', 0, 0, 0, 1, 0, 0, 0, 0, 0, 1],\n",
       " [1, 0, 1, 1, 0, 1, 0, 1, 0, 1, 0, 1],\n",
       " [1, 0, 0, 0, 0, 0, 0, 1, 0, 0, 0, 1],\n",
       " [1, 0, 1, 1, 1, 1, 0, 1, 1, 1, 0, 1],\n",
       " [1, 0, 0, 1, 0, 1, 0, 0, 0, 0, 0, 1],\n",
       " [1, 1, 0, 1, 0, 1, 0, 1, 0, 1, 1, 1],\n",
       " [1, 0, 0, 1, 0, 0, 0, 1, 0, 'g', 0, 1],\n",
       " [1, 1, 1, 1, 1, 1, 1, 1, 1, 1, 1, 1]]"
      ]
     },
     "execution_count": 5,
     "metadata": {},
     "output_type": "execute_result"
    }
   ],
   "source": [
    "# https://github.com/Farama-Foundation/D4RL/blob/master/d4rl/locomotion/maze_env.py\n",
    "#env.env.env._wrapped_env??\n",
    "\n",
    "env.env.env._wrapped_env._maze_map"
   ]
  },
  {
   "cell_type": "code",
   "execution_count": 6,
   "id": "7dcbbe03-fb76-4688-9bef-ecbf2f8b7ec7",
   "metadata": {},
   "outputs": [],
   "source": [
    "for i in range(len(env.env.env._wrapped_env._maze_map)):\n",
    "    for j in range(len(env.env.env._wrapped_env._maze_map[0])):\n",
    "        if env.env.env._wrapped_env._maze_map[i][j] in ['r', 'g']:\n",
    "            env.env.env._wrapped_env._maze_map[i][j] = 0"
   ]
  },
  {
   "cell_type": "code",
   "execution_count": 7,
   "id": "98c7acee-e5ed-4471-959e-0c3251130d66",
   "metadata": {},
   "outputs": [
    {
     "data": {
      "text/plain": [
       "<matplotlib.collections.PathCollection at 0x7f8ac9117190>"
      ]
     },
     "execution_count": 7,
     "metadata": {},
     "output_type": "execute_result"
    },
    {
     "data": {
      "image/png": "[encoded data removed]",
      "text/plain": [
       "<Figure size 640x480 with 1 Axes>"
      ]
     },
     "metadata": {},
     "output_type": "display_data"
    }
   ],
   "source": [
    "import numpy as np\n",
    "plt.imshow(1 - np.array(env.env.env._wrapped_env._maze_map), cmap=cmap, origin=\"lower\")\n",
    "plt.scatter(*env.env.env._wrapped_env._xy_to_rowcol((33.12297854530087, 24.974616400316876))[::-1], marker=\"x\", c='red', s=130, linewidths=2)\n",
    "plt.scatter(*env.env.env._wrapped_env._xy_to_rowcol((36.376736 ,  5.238806))[::-1], marker=\"o\", c='royalblue', s=130, linewidths=2)"
   ]
  },
  {
   "cell_type": "code",
   "execution_count": 8,
   "id": "ce4af2d7-6132-4c1b-b21a-ef3adb12fceb",
   "metadata": {},
   "outputs": [
    {
     "data": {
      "image/png": "[encoded data removed]",
      "text/plain": [
       "<Figure size 640x480 with 1 Axes>"
      ]
     },
     "metadata": {},
     "output_type": "display_data"
    }
   ],
   "source": [
    "plt.imshow(1 - np.array(env.env.env._wrapped_env._maze_map), cmap=cmap, origin=\"lower\")\n",
    "for i in range(len(env.env.env._wrapped_env._maze_map)):\n",
    "    for j in range(len(env.env.env._wrapped_env._maze_map[0])):\n",
    "        if np.array(env.env.env._wrapped_env._maze_map)[i, j] != 1:\n",
    "            text = plt.text(j, i, np.array(env.env.env._wrapped_env._maze_map)[i, j],\n",
    "                           ha=\"center\", va=\"center\", color=\"b\")"
   ]
  },
  {
   "cell_type": "code",
   "execution_count": 44,
   "id": "83c30d7d-639e-4a49-980e-1fcc621314cd",
   "metadata": {},
   "outputs": [],
   "source": [
    "xy = d4rl_ds['observations'][np.arange(2000, 2050)][:, :2]"
   ]
  },
  {
   "cell_type": "code",
   "execution_count": 46,
   "id": "95e81c4d-2ff1-4747-aeca-a251f4fa9383",
   "metadata": {},
   "outputs": [
    {
     "data": {
      "text/plain": [
       "<matplotlib.collections.PathCollection at 0x7f8a919c5a00>"
      ]
     },
     "execution_count": 46,
     "metadata": {},
     "output_type": "execute_result"
    },
    {
     "data": {
      "image/png": "[encoded data removed]",
      "text/plain": [
       "<Figure size 640x480 with 1 Axes>"
      ]
     },
     "metadata": {},
     "output_type": "display_data"
    }
   ],
   "source": [
    "from matplotlib import patches\n",
    "\n",
    "ax = plt.gca()\n",
    "torso_x, torso_y = env.env.env._wrapped_env._init_torso_x, env.env.env._wrapped_env._init_torso_y\n",
    "S =  env.env.env._wrapped_env._maze_size_scaling\n",
    "for i in range(len(env.env.env._wrapped_env._maze_map)):\n",
    "    for j in range(len(env.env.env._wrapped_env._maze_map[0])):\n",
    "        struct = env.env.env._wrapped_env._maze_map[i][j]\n",
    "        if struct == 1:\n",
    "            rect = patches.Rectangle((j *S - torso_x - S/ 2,\n",
    "                                    i * S- torso_y - S/ 2),\n",
    "                                    S,\n",
    "                                    S, linewidth=1, facecolor='RosyBrown', alpha=1.0)\n",
    "            ax.add_patch(rect)\n",
    "ax.set_xlim(0 - S /2 + 0.6 * S - torso_x, len(env.env.env._wrapped_env._maze_map[0]) * S - torso_x - S/2 - S * 0.6)\n",
    "ax.set_ylim(0 - S/2 + 0.6 * S - torso_y, len(env.env.env._wrapped_env._maze_map) * S - torso_y - S/2 - S * 0.6)\n",
    "plt.scatter(xy[:, 0], xy[:, 1], alpha=0.1)\n",
    "#plt.scatter(base_obs[:, 0], base_obs[:, 1])"
   ]
  },
  {
   "cell_type": "code",
   "execution_count": 16,
   "id": "30f4d943-558d-477d-a639-a745f4a40965",
   "metadata": {},
   "outputs": [
    {
     "name": "stdout",
     "output_type": "stream",
     "text": [
      "(-2.0, -2.0) (38.0, 26.0)\n"
     ]
    }
   ],
   "source": [
    "wrapped_env = env.env.env._wrapped_env\n",
    "torso_x, torso_y = wrapped_env._init_torso_x, wrapped_env._init_torso_y\n",
    "S = wrapped_env._maze_size_scaling\n",
    "print((0 - S / 2 + S - torso_x, 0 - S/2 + S - torso_y), (len(wrapped_env._maze_map[0]) * S - torso_x - S/2 - S, len(wrapped_env._maze_map) * S - torso_y - S/2 - S))\n",
    "\n",
    "def XY(n=20):\n",
    "    bl, tr = (-2.0, -2.0), (38.0, 26.0)\n",
    "    X = np.linspace(bl[0] + 0.04 * (tr[0] - bl[0]) , tr[0] - 0.04 * (tr[0] - bl[0]), n)\n",
    "    Y = np.linspace(bl[1] + 0.04 * (tr[1] - bl[1]) , tr[1] - 0.04 * (tr[1] - bl[1]), n)\n",
    "    \n",
    "    X,Y = np.meshgrid(X,Y)\n",
    "    states = np.array([X.flatten(), Y.flatten()]).T\n",
    "    return states"
   ]
  },
  {
   "cell_type": "code",
   "execution_count": 23,
   "id": "f2ccfc85-0cc5-42bb-b9b7-98c25ed3359a",
   "metadata": {},
   "outputs": [],
   "source": [
    "obs = XY()"
   ]
  },
  {
   "cell_type": "markdown",
   "id": "78266875-84ba-45db-9b25-b96901d5922e",
   "metadata": {},
   "source": [
    "## AntMaze-Umaze"
   ]
  },
  {
   "cell_type": "code",
   "execution_count": 3,
   "id": "aabd2600-89c8-4e84-a8e1-fd4cb53ae181",
   "metadata": {},
   "outputs": [
    {
     "name": "stdout",
     "output_type": "stream",
     "text": [
      "Target Goal:  (0.7241989442597729, 8.374488737841759)\n"
     ]
    },
    {
     "name": "stderr",
     "output_type": "stream",
     "text": [
      "load datafile: 100%|██████████████████████████████████████████████████████████████████████████████████████████████████████████████████| 8/8 [00:02<00:00,  3.36it/s]\n"
     ]
    }
   ],
   "source": [
    "env = gym.make(\"antmaze-umaze-v2\")\n",
    "d4rl_ds = d4rl.qlearning_dataset(env)"
   ]
  },
  {
   "cell_type": "code",
   "execution_count": 8,
   "id": "7a0ff405-ca3a-4611-92e7-61d94a06fbe4",
   "metadata": {},
   "outputs": [],
   "source": [
    "import numpy as np\n",
    "import matplotlib.pyplot as plt\n",
    "from matplotlib.colors import LinearSegmentedColormap, ListedColormap\n",
    "\n",
    "xy = d4rl_ds['observations'][np.arange(700, 800)][:, :2]"
   ]
  },
  {
   "cell_type": "code",
   "execution_count": 9,
   "id": "002399fd-af01-4ff8-8173-88563313506e",
   "metadata": {},
   "outputs": [
    {
     "data": {
      "text/plain": [
       "<matplotlib.collections.PathCollection at 0x7fc48b04b280>"
      ]
     },
     "execution_count": 9,
     "metadata": {},
     "output_type": "execute_result"
    },
    {
     "data": {
      "image/png": "[encoded data removed]",
      "text/plain": [
       "<Figure size 640x480 with 1 Axes>"
      ]
     },
     "metadata": {},
     "output_type": "display_data"
    }
   ],
   "source": [
    "for i in range(len(env.env.env._wrapped_env._maze_map)):\n",
    "    for j in range(len(env.env.env._wrapped_env._maze_map[0])):\n",
    "        if env.env.env._wrapped_env._maze_map[i][j] in ['r', 'g']:\n",
    "            env.env.env._wrapped_env._maze_map[i][j] = 0\n",
    "\n",
    "from matplotlib import patches\n",
    "\n",
    "ax = plt.gca()\n",
    "torso_x, torso_y = env.env.env._wrapped_env._init_torso_x, env.env.env._wrapped_env._init_torso_y\n",
    "S =  env.env.env._wrapped_env._maze_size_scaling\n",
    "for i in range(len(env.env.env._wrapped_env._maze_map)):\n",
    "    for j in range(len(env.env.env._wrapped_env._maze_map[0])):\n",
    "        struct = env.env.env._wrapped_env._maze_map[i][j]\n",
    "        if struct == 1:\n",
    "            rect = patches.Rectangle((j *S - torso_x - S/ 2,\n",
    "                                    i * S- torso_y - S/ 2),\n",
    "                                    S,\n",
    "                                    S, linewidth=1, facecolor='RosyBrown', alpha=1.0)\n",
    "            ax.add_patch(rect)\n",
    "ax.set_xlim(0 - S /2 + 0.6 * S - torso_x, len(env.env.env._wrapped_env._maze_map[0]) * S - torso_x - S/2 - S * 0.6)\n",
    "ax.set_ylim(0 - S/2 + 0.6 * S - torso_y, len(env.env.env._wrapped_env._maze_map) * S - torso_y - S/2 - S * 0.6)\n",
    "plt.scatter(xy[:, 0], xy[:, 1], alpha=0.1)\n",
    "plt.scatter(*env.env.env._wrapped_env.target_goal, marker=\"x\")"
   ]
  },
  {
   "cell_type": "code",
   "execution_count": 5,
   "id": "9c8f686e-db9d-46c6-ad39-c8aef0a72d26",
   "metadata": {},
   "outputs": [],
   "source": [
    "dones_float = np.zeros_like(d4rl_ds['rewards'])\n",
    "\n",
    "for i in range(len(dones_float) - 1):\n",
    "    if np.linalg.norm(d4rl_ds['observations'][i + 1] - d4rl_ds['next_observations'][i]) > 1e-6:\n",
    "        dones_float[i] = 1\n",
    "    else:\n",
    "        dones_float[i] = 0\n",
    "dones_float[-1] = 1"
   ]
  },
  {
   "cell_type": "code",
   "execution_count": 6,
   "id": "f10b58b0-dd50-44c3-a4aa-b10ad5dcd396",
   "metadata": {},
   "outputs": [
    {
     "data": {
      "text/plain": [
       "array([   699,   1399,   2099,   2799,   3499,   4199,   4899,   5599,\n",
       "         6299,   6999,   7699,   8399,   9099,   9799,  10499,  11199,\n",
       "        11899,  12599,  13299,  13999,  14699,  15399,  16099,  16799,\n",
       "        17499,  18199,  18899,  19599,  20299,  20999,  21699,  22399,\n",
       "        23099,  23799,  24499,  25199,  25899,  26599,  27299,  27999,\n",
       "        28699,  29399,  30099,  30799,  31499,  32199,  32899,  33599,\n",
       "        34299,  34999,  35699,  36399,  37099,  37799,  38499,  39199,\n",
       "        39899,  40599,  41299,  41999,  42699,  43399,  44099,  44799,\n",
       "        45499,  46199,  46899,  47599,  48299,  48999,  49699,  50399,\n",
       "        51099,  51799,  52499,  53199,  53899,  54599,  55299,  55999,\n",
       "        56699,  57399,  58099,  58799,  59499,  60199,  60899,  61599,\n",
       "        62299,  62999,  63699,  64399,  65099,  65799,  66499,  67199,\n",
       "        67899,  68599,  69299,  69999,  70699,  71399,  72099,  72799,\n",
       "        73499,  74199,  74899,  75599,  76299,  76999,  77699,  78399,\n",
       "        79099,  79799,  80499,  81199,  81899,  82599,  83299,  83999,\n",
       "        84699,  85399,  86099,  86799,  87499,  88199,  88899,  89599,\n",
       "        90299,  90999,  91699,  92399,  93099,  93799,  94499,  95199,\n",
       "        95899,  96599,  97299,  97999,  98699,  99399, 100099, 100799,\n",
       "       101499, 102199, 102899, 103599, 104299, 104999, 105699, 106399,\n",
       "       107099, 107799, 108499, 109199, 109899, 110599, 111299, 111999,\n",
       "       112699, 113399, 114099, 114799, 115499, 116199, 116899, 117599,\n",
       "       118299, 118999, 119699, 120399, 121099, 121799, 122499, 123199,\n",
       "       123899, 124599, 125299, 125999, 126699, 127399, 128099, 128799,\n",
       "       129499, 130199, 130899, 131599, 132299, 132999, 133699, 134399,\n",
       "       135099, 135799, 136499, 137199, 137899, 138599, 139299, 139999,\n",
       "       140699, 141399, 142099, 142799, 143499, 144199, 144899, 145599,\n",
       "       146299, 146999, 147699, 148399, 149099, 149799, 150499, 151199,\n",
       "       151899, 152599, 153299, 153999, 154699, 155399, 156099, 156799,\n",
       "       157499, 158199, 158899, 159599, 160299, 160999, 161699, 162399,\n",
       "       163099, 163799, 164499, 165199, 165899, 166599, 167299, 167999,\n",
       "       168699, 169399, 170099, 170799, 171499, 172199, 172899, 173599,\n",
       "       174299, 174999, 175699, 176399, 177099, 177799, 178499, 179199,\n",
       "       179899, 180599, 181299, 181999, 182699, 183399, 184099, 184799,\n",
       "       185499, 186199, 186899, 187599, 188299, 188999, 189699, 190399,\n",
       "       191099, 191799, 192499, 193199, 193899, 194599, 195299, 195999,\n",
       "       196699, 197399, 198099, 198799, 199499, 200199, 200899, 201599,\n",
       "       202299, 202999, 203699, 204399, 205099, 205799, 206499, 207199,\n",
       "       207899, 208599, 209299, 209999])"
      ]
     },
     "execution_count": 6,
     "metadata": {},
     "output_type": "execute_result"
    }
   ],
   "source": [
    "np.nonzero(dones_float)[0][:300]"
   ]
  },
  {
   "cell_type": "code",
   "execution_count": 7,
   "id": "300517c3-55f6-48bb-9fcc-0a53189c21b3",
   "metadata": {},
   "outputs": [
    {
     "name": "stderr",
     "output_type": "stream",
     "text": [
      "load datafile: 100%|█████████████████████████████████████████████████████████████████████████████████████████████████████████████| 9/9 [00:01<00:00,  8.29it/s]\n"
     ]
    }
   ],
   "source": [
    "import h5py\n",
    "from tqdm.auto import tqdm\n",
    "\n",
    "def get_keys(h5file):\n",
    "    keys = []\n",
    "\n",
    "    def visitor(name, item):\n",
    "        if isinstance(item, h5py.Dataset):\n",
    "            keys.append(name)\n",
    "\n",
    "    h5file.visititems(visitor)\n",
    "    return keys\n",
    "\n",
    "def get_dataset(h5path):\n",
    "    data_dict = {}\n",
    "    with h5py.File(h5path, 'r') as dataset_file:\n",
    "        for k in tqdm(get_keys(dataset_file), desc=\"load datafile\"):\n",
    "            try:  # first try loading as an array\n",
    "                data_dict[k] = dataset_file[k][:]\n",
    "            except ValueError as e:  # try loading as a scalar\n",
    "                data_dict[k] = dataset_file[k][()]\n",
    "\n",
    "    return data_dict\n",
    "    \n",
    "random_agent_ds = get_dataset(\"/home/m_bobrin/AILOT/antmaze-umaze-v2-noiserandomaction.hdf5\")"
   ]
  },
  {
   "cell_type": "code",
   "execution_count": 78,
   "id": "935a8e5d-8a27-4551-8673-dce81d8f59de",
   "metadata": {},
   "outputs": [],
   "source": [
    "xy = combined['observations'][np.arange(203000, 204000)][:, :2]"
   ]
  },
  {
   "cell_type": "code",
   "execution_count": 12,
   "id": "78adae03-45f1-4b0a-b0ea-79fcc2feab12",
   "metadata": {},
   "outputs": [
    {
     "data": {
      "text/plain": [
       "<matplotlib.collections.PathCollection at 0x7fc4385b68b0>"
      ]
     },
     "execution_count": 12,
     "metadata": {},
     "output_type": "execute_result"
    },
    {
     "data": {
      "image/png": "[encoded data removed]",
      "text/plain": [
       "<Figure size 640x480 with 1 Axes>"
      ]
     },
     "metadata": {},
     "output_type": "display_data"
    }
   ],
   "source": [
    "for i in range(len(env.env.env._wrapped_env._maze_map)):\n",
    "    for j in range(len(env.env.env._wrapped_env._maze_map[0])):\n",
    "        if env.env.env._wrapped_env._maze_map[i][j] in ['r', 'g']:\n",
    "            env.env.env._wrapped_env._maze_map[i][j] = 0\n",
    "\n",
    "from matplotlib import patches\n",
    "\n",
    "ax = plt.gca()\n",
    "torso_x, torso_y = env.env.env._wrapped_env._init_torso_x, env.env.env._wrapped_env._init_torso_y\n",
    "S =  env.env.env._wrapped_env._maze_size_scaling\n",
    "for i in range(len(env.env.env._wrapped_env._maze_map)):\n",
    "    for j in range(len(env.env.env._wrapped_env._maze_map[0])):\n",
    "        struct = env.env.env._wrapped_env._maze_map[i][j]\n",
    "        if struct == 1:\n",
    "            rect = patches.Rectangle((j *S - torso_x - S/ 2,\n",
    "                                    i * S- torso_y - S/ 2),\n",
    "                                    S,\n",
    "                                    S, linewidth=1, facecolor='RosyBrown', alpha=1.0)\n",
    "            ax.add_patch(rect)\n",
    "ax.set_xlim(0 - S /2 + 0.6 * S - torso_x, len(env.env.env._wrapped_env._maze_map[0]) * S - torso_x - S/2 - S * 0.6)\n",
    "ax.set_ylim(0 - S/2 + 0.6 * S - torso_y, len(env.env.env._wrapped_env._maze_map) * S - torso_y - S/2 - S * 0.6)\n",
    "plt.scatter(xy[:, 0], xy[:, 1], alpha=0.1)\n",
    "plt.scatter(*env.env.env._wrapped_env.target_goal, marker=\"x\", c='red')"
   ]
  },
  {
   "cell_type": "code",
   "execution_count": 17,
   "id": "fd55842e-df03-45ed-8195-46767a79ff1c",
   "metadata": {},
   "outputs": [
    {
     "name": "stdout",
     "output_type": "stream",
     "text": [
      "[  1000   2001   3002   4003   5004   6005   7006   8007   9008  10009\n",
      "  11010  12011  13012  14013  15014  16015  17016  18017  19018  20019\n",
      "  21020  22021  23022  24023  25024  26025  27026  28027  29028  30029\n",
      "  31030  32031  33032  34033  35034  36035  37036  38037  39038  40039\n",
      "  41040  42041  43042  44043  45044  46045  47046  48047  49048  50049\n",
      "  51050  52051  53052  54053  55054  56055  57056  58057  59058  60059\n",
      "  61060  62061  63062  64063  65064  66065  67066  68067  69068  70069\n",
      "  71070  72071  73072  74073  75074  76075  77076  78077  79078  80079\n",
      "  81080  82081  83082  84083  85084  86085  87086  88087  89088  90089\n",
      "  91090  92091  93092  94093  95094  96095  97096  98097  99098 100099\n",
      " 101100 102101 103102 104103 105104 106105 107106 108107 109108 110109\n",
      " 111110 112111 113112 114113 115114 116115 117116 118117 119118 120119\n",
      " 121120 122121 123122 124123 125124 126125 127126 128127 129128 130129\n",
      " 131130 132131 133132 134133 135134 136135 137136 138137 139138 140139\n",
      " 141140 142141 143142 144143 145144 146145 147146 148147 149148 150149\n",
      " 151150 152151 153152 154153 155154 156155 157156 158157 159158 160159\n",
      " 161160 162161 163162 164163 165164 166165 167166 168167 169168 170169\n",
      " 171170 172171 173172 174173 175174 176175 177176 178177 179178 180179\n",
      " 181180 182181 183182 184183 185184 186185 187186 188187 189188 190189\n",
      " 191190 192191 193192 194193 195194 196195 197196 198197 199198 200199]\n"
     ]
    }
   ],
   "source": [
    "def combine_ds(expert_ds, agent_ds):\n",
    "    expert_timeouts = np.nonzero(dones_float)[0] #np.nonzero(expert_ds['dones_float'])[0] # Timeouts = Not neccesarly achived target goal & received reward\n",
    "    agent_timeouts = np.nonzero(agent_ds['timeouts'])[0]\n",
    "    num_expert_trajectories = 500 # each trajectory of size 1k; timeout on each of 700 steps, thus 700 * 500=350k\n",
    "    num_agent_trajectories = 200\n",
    "    expert_slice = 700 * num_expert_trajectories\n",
    "    agent_slice = 1000*num_agent_trajectories\n",
    "\n",
    "    print(agent_timeouts[:num_agent_trajectories])\n",
    "    mixed_ds = {\n",
    "        'observations': np.concatenate((agent_ds['observations'][:agent_slice], expert_ds['observations'][:expert_slice])),\n",
    "        'next_observations': np.concatenate((agent_ds['next_observations'][:agent_slice], expert_ds['next_observations'][:expert_slice])),\n",
    "        'rewards': np.concatenate((agent_ds['rewards'][:agent_slice], expert_ds['rewards'][:expert_slice])),\n",
    "        'actions': np.concatenate((agent_ds['actions'][:agent_slice], expert_ds['actions'][:expert_slice])),\n",
    "        'terminals': np.concatenate((agent_ds['terminals'][:agent_slice], expert_ds['terminals'][:expert_slice])),\n",
    "        'dones_float': np.concatenate((agent_timeouts[:num_agent_trajectories], expert_timeouts[:num_expert_trajectories]))\n",
    "    }\n",
    "    return mixed_ds\n",
    "    \n",
    "combined = combine_ds(d4rl_ds, random_agent_ds)"
   ]
  },
  {
   "cell_type": "code",
   "execution_count": 18,
   "id": "e2767b1c-6ccb-46f2-adcc-580126b70c02",
   "metadata": {},
   "outputs": [
    {
     "data": {
      "text/plain": [
       "array([  1000,   2001,   3002,   4003,   5004,   6005,   7006,   8007,\n",
       "         9008,  10009,  11010,  12011,  13012,  14013,  15014,  16015,\n",
       "        17016,  18017,  19018,  20019,  21020,  22021,  23022,  24023,\n",
       "        25024,  26025,  27026,  28027,  29028,  30029,  31030,  32031,\n",
       "        33032,  34033,  35034,  36035,  37036,  38037,  39038,  40039,\n",
       "        41040,  42041,  43042,  44043,  45044,  46045,  47046,  48047,\n",
       "        49048,  50049,  51050,  52051,  53052,  54053,  55054,  56055,\n",
       "        57056,  58057,  59058,  60059,  61060,  62061,  63062,  64063,\n",
       "        65064,  66065,  67066,  68067,  69068,  70069,  71070,  72071,\n",
       "        73072,  74073,  75074,  76075,  77076,  78077,  79078,  80079,\n",
       "        81080,  82081,  83082,  84083,  85084,  86085,  87086,  88087,\n",
       "        89088,  90089,  91090,  92091,  93092,  94093,  95094,  96095,\n",
       "        97096,  98097,  99098, 100099, 101100, 102101, 103102, 104103,\n",
       "       105104, 106105, 107106, 108107, 109108, 110109, 111110, 112111,\n",
       "       113112, 114113, 115114, 116115, 117116, 118117, 119118, 120119,\n",
       "       121120, 122121, 123122, 124123, 125124, 126125, 127126, 128127,\n",
       "       129128, 130129, 131130, 132131, 133132, 134133, 135134, 136135,\n",
       "       137136, 138137, 139138, 140139, 141140, 142141, 143142, 144143,\n",
       "       145144, 146145, 147146, 148147, 149148, 150149, 151150, 152151,\n",
       "       153152, 154153, 155154, 156155, 157156, 158157, 159158, 160159,\n",
       "       161160, 162161, 163162, 164163, 165164, 166165, 167166, 168167,\n",
       "       169168, 170169, 171170, 172171, 173172, 174173, 175174, 176175,\n",
       "       177176, 178177, 179178, 180179, 181180, 182181, 183182, 184183,\n",
       "       185184, 186185, 187186, 188187, 189188, 190189, 191190, 192191,\n",
       "       193192, 194193, 195194, 196195, 197196, 198197, 199198, 200199,\n",
       "          699,   1399,   2099,   2799,   3499,   4199,   4899,   5599,\n",
       "         6299,   6999,   7699,   8399,   9099,   9799,  10499,  11199,\n",
       "        11899,  12599,  13299,  13999,  14699,  15399,  16099,  16799,\n",
       "        17499,  18199,  18899,  19599,  20299,  20999,  21699,  22399,\n",
       "        23099,  23799,  24499,  25199,  25899,  26599,  27299,  27999,\n",
       "        28699,  29399,  30099,  30799,  31499,  32199,  32899,  33599,\n",
       "        34299,  34999,  35699,  36399,  37099,  37799,  38499,  39199,\n",
       "        39899,  40599,  41299,  41999,  42699,  43399,  44099,  44799,\n",
       "        45499,  46199,  46899,  47599,  48299,  48999,  49699,  50399,\n",
       "        51099,  51799,  52499,  53199,  53899,  54599,  55299,  55999,\n",
       "        56699,  57399,  58099,  58799,  59499,  60199,  60899,  61599,\n",
       "        62299,  62999,  63699,  64399,  65099,  65799,  66499,  67199,\n",
       "        67899,  68599,  69299,  69999,  70699,  71399,  72099,  72799,\n",
       "        73499,  74199,  74899,  75599,  76299,  76999,  77699,  78399,\n",
       "        79099,  79799,  80499,  81199,  81899,  82599,  83299,  83999,\n",
       "        84699,  85399,  86099,  86799,  87499,  88199,  88899,  89599,\n",
       "        90299,  90999,  91699,  92399,  93099,  93799,  94499,  95199,\n",
       "        95899,  96599,  97299,  97999,  98699,  99399, 100099, 100799,\n",
       "       101499, 102199, 102899, 103599, 104299, 104999, 105699, 106399,\n",
       "       107099, 107799, 108499, 109199, 109899, 110599, 111299, 111999,\n",
       "       112699, 113399, 114099, 114799, 115499, 116199, 116899, 117599,\n",
       "       118299, 118999, 119699, 120399, 121099, 121799, 122499, 123199,\n",
       "       123899, 124599, 125299, 125999, 126699, 127399, 128099, 128799,\n",
       "       129499, 130199, 130899, 131599, 132299, 132999, 133699, 134399,\n",
       "       135099, 135799, 136499, 137199, 137899, 138599, 139299, 139999,\n",
       "       140699, 141399, 142099, 142799, 143499, 144199, 144899, 145599,\n",
       "       146299, 146999, 147699, 148399, 149099, 149799, 150499, 151199,\n",
       "       151899, 152599, 153299, 153999, 154699, 155399, 156099, 156799,\n",
       "       157499, 158199, 158899, 159599, 160299, 160999, 161699, 162399,\n",
       "       163099, 163799, 164499, 165199, 165899, 166599, 167299, 167999,\n",
       "       168699, 169399, 170099, 170799, 171499, 172199, 172899, 173599,\n",
       "       174299, 174999, 175699, 176399, 177099, 177799, 178499, 179199,\n",
       "       179899, 180599, 181299, 181999, 182699, 183399, 184099, 184799,\n",
       "       185499, 186199, 186899, 187599, 188299, 188999, 189699, 190399,\n",
       "       191099, 191799, 192499, 193199, 193899, 194599, 195299, 195999,\n",
       "       196699, 197399, 198099, 198799, 199499, 200199, 200899, 201599,\n",
       "       202299, 202999, 203699, 204399, 205099, 205799, 206499, 207199,\n",
       "       207899, 208599, 209299, 209999, 210699, 211399, 212099, 212799,\n",
       "       213499, 214199, 214899, 215599, 216299, 216999, 217699, 218399,\n",
       "       219099, 219799, 220499, 221199, 221899, 222599, 223299, 223999,\n",
       "       224699, 225399, 226099, 226799, 227499, 228199, 228899, 229599,\n",
       "       230299, 230999, 231699, 232399, 233099, 233799, 234499, 235199,\n",
       "       235899, 236599, 237299, 237999, 238699, 239399, 240099, 240799,\n",
       "       241499, 242199, 242899, 243599, 244299, 244999, 245699, 246399,\n",
       "       247099, 247799, 248499, 249199, 249899, 250599, 251299, 251999,\n",
       "       252699, 253399, 254099, 254799, 255499, 256199, 256899, 257599,\n",
       "       258299, 258999, 259699, 260399, 261099, 261799, 262499, 263199,\n",
       "       263899, 264599, 265299, 265999, 266699, 267399, 268099, 268799,\n",
       "       269499, 270199, 270899, 271599, 272299, 272999, 273699, 274399,\n",
       "       275099, 275799, 276499, 277199, 277899, 278599, 279299, 279999,\n",
       "       280699, 281399, 282099, 282799, 283499, 284199, 284899, 285599,\n",
       "       286299, 286999, 287699, 288399, 289099, 289799, 290499, 291199,\n",
       "       291899, 292599, 293299, 293999, 294699, 295399, 296099, 296799,\n",
       "       297499, 298199, 298899, 299599, 300299, 300999, 301699, 302399,\n",
       "       303099, 303799, 304499, 305199, 305899, 306599, 307299, 307999,\n",
       "       308699, 309399, 310099, 310799, 311499, 312199, 312899, 313599,\n",
       "       314299, 314999, 315699, 316399, 317099, 317799, 318499, 319199,\n",
       "       319899, 320599, 321299, 321999, 322699, 323399, 324099, 324799,\n",
       "       325499, 326199, 326899, 327599, 328299, 328999, 329699, 330399,\n",
       "       331099, 331799, 332499, 333199, 333899, 334599, 335299, 335999,\n",
       "       336699, 337399, 338099, 338799, 339499, 340199, 340899, 341599,\n",
       "       342299, 342999, 343699, 344399, 345099, 345799, 346499, 347199,\n",
       "       347899, 348599, 349299, 349999])"
      ]
     },
     "execution_count": 18,
     "metadata": {},
     "output_type": "execute_result"
    }
   ],
   "source": [
    "combined['dones_float']"
   ]
  },
  {
   "cell_type": "code",
   "execution_count": null,
   "id": "78b2271b-696c-471e-b2af-51788e892dcf",
   "metadata": {},
   "outputs": [],
   "source": []
  }
 ],
 "metadata": {
  "kernelspec": {
   "display_name": "Python 3 (ipykernel)",
   "language": "python",
   "name": "python3"
  },
  "language_info": {
   "codemirror_mode": {
    "name": "ipython",
    "version": 3
   },
   "file_extension": ".py",
   "mimetype": "text/x-python",
   "name": "python",
   "nbconvert_exporter": "python",
   "pygments_lexer": "ipython3",
   "version": "3.9.18"
  }
 },
 "nbformat": 4,
 "nbformat_minor": 5
}
