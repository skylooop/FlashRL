{
 "cells": [
  {
   "cell_type": "code",
   "execution_count": 1,
   "id": "23a68869-81b1-4078-9c95-02b299902e21",
   "metadata": {},
   "outputs": [],
   "source": [
    "import jax\n",
    "import jax.numpy as jnp\n",
    "import gymnax"
   ]
  },
  {
   "cell_type": "code",
   "execution_count": 2,
   "id": "3cb26db2-1d1a-45ff-82c0-f74f0fd2bb78",
   "metadata": {},
   "outputs": [
    {
     "data": {
      "text/plain": [
       "[gpu(id=0), gpu(id=1), gpu(id=2), gpu(id=3)]"
      ]
     },
     "execution_count": 2,
     "metadata": {},
     "output_type": "execute_result"
    }
   ],
   "source": [
    "jax.devices()"
   ]
  },
  {
   "cell_type": "code",
   "execution_count": 3,
   "id": "b7453252-a94d-465e-9345-46a126b5ce2e",
   "metadata": {},
   "outputs": [
    {
     "data": {
      "text/plain": [
       "['CartPole-v1',\n",
       " 'Pendulum-v1',\n",
       " 'Acrobot-v1',\n",
       " 'MountainCar-v0',\n",
       " 'MountainCarContinuous-v0',\n",
       " 'Asterix-MinAtar',\n",
       " 'Breakout-MinAtar',\n",
       " 'Freeway-MinAtar',\n",
       " 'SpaceInvaders-MinAtar',\n",
       " 'Catch-bsuite',\n",
       " 'DeepSea-bsuite',\n",
       " 'MemoryChain-bsuite',\n",
       " 'UmbrellaChain-bsuite',\n",
       " 'DiscountingChain-bsuite',\n",
       " 'MNISTBandit-bsuite',\n",
       " 'SimpleBandit-bsuite',\n",
       " 'FourRooms-misc',\n",
       " 'MetaMaze-misc',\n",
       " 'PointRobot-misc',\n",
       " 'BernoulliBandit-misc',\n",
       " 'GaussianBandit-misc',\n",
       " 'Reacher-misc',\n",
       " 'Swimmer-misc',\n",
       " 'Pong-misc']"
      ]
     },
     "execution_count": 3,
     "metadata": {},
     "output_type": "execute_result"
    }
   ],
   "source": [
    "gymnax.registered_envs"
   ]
  },
  {
   "cell_type": "code",
   "execution_count": 4,
   "id": "9281416e-04f1-4aff-8908-042b52cf64e9",
   "metadata": {},
   "outputs": [],
   "source": [
    "env, params = gymnax.make(\"CartPole-v1\")"
   ]
  },
  {
   "cell_type": "code",
   "execution_count": 5,
   "id": "416bf7e2-ddd1-453b-8f2a-ceccf0fb4bf6",
   "metadata": {},
   "outputs": [],
   "source": [
    "rng, step_rng, reset_rng, action_key = jax.random.split(jax.random.PRNGKey(42), 4)"
   ]
  },
  {
   "cell_type": "code",
   "execution_count": 8,
   "id": "37852721-d91a-42f7-8ad8-f989c6bca81f",
   "metadata": {},
   "outputs": [
    {
     "name": "stdout",
     "output_type": "stream",
     "text": [
      "(8, 4)\n"
     ]
    }
   ],
   "source": [
    "vmap_reset = jax.vmap(env.reset, in_axes=(0, None))\n",
    "vmap_step = jax.vmap(env.step, in_axes=(0, 0, 0))\n",
    "vmap_action = jax.vmap(env.action_space(params).sample)(jax.random.split(step_rng, 8))\n",
    "num_envs = 8\n",
    "vmap_keys = jax.random.split(rng, num_envs)\n",
    "\n",
    "obs, state = vmap_reset(vmap_keys, params)\n",
    "n_obs, n_state, reward, done, _ = vmap_step(vmap_keys, state, vmap_action)\n",
    "print(n_obs.shape)"
   ]
  },
  {
   "cell_type": "code",
   "execution_count": 9,
   "id": "3efdf4e2-55a3-40bc-9a44-48017a37e807",
   "metadata": {},
   "outputs": [
    {
     "name": "stdout",
     "output_type": "stream",
     "text": [
      "(4, 8, 4)\n"
     ]
    }
   ],
   "source": [
    "pmap_reset = jax.pmap(vmap_reset, in_axes=(0, None))\n",
    "pmap_step = jax.pmap(vmap_step, in_axes=(0, 0, 0))\n",
    "pmap_action = jax.pmap(jax.vmap(env.action_space(params).sample))(jnp.tile(jax.random.split(step_rng, 8), (4, 1, 1)))\n",
    "\n",
    "map_keys = jnp.tile(vmap_keys, (4, 1, 1))\n",
    "obs, state = pmap_reset(map_keys, params)\n",
    "n_obs, n_state, reward, done, _ = pmap_step(map_keys, state, pmap_action)\n",
    "print(n_obs.shape)"
   ]
  },
  {
   "cell_type": "code",
   "execution_count": 11,
   "id": "b4df812c-4244-48e6-b87f-ae89e3a66ca8",
   "metadata": {},
   "outputs": [
    {
     "data": {
      "text/plain": [
       "Array([[1, 1, 0, 0, 0, 0, 0, 0],\n",
       "       [1, 1, 0, 0, 0, 0, 0, 0],\n",
       "       [1, 1, 0, 0, 0, 0, 0, 0],\n",
       "       [1, 1, 0, 0, 0, 0, 0, 0]], dtype=int32)"
      ]
     },
     "execution_count": 11,
     "metadata": {},
     "output_type": "execute_result"
    }
   ],
   "source": [
    "pmap_action"
   ]
  },
  {
   "cell_type": "code",
   "execution_count": null,
   "id": "579348f2-bcad-4b55-9917-088acf5870d6",
   "metadata": {},
   "outputs": [],
   "source": []
  }
 ],
 "metadata": {
  "kernelspec": {
   "display_name": "Python 3 (ipykernel)",
   "language": "python",
   "name": "python3"
  },
  "language_info": {
   "codemirror_mode": {
    "name": "ipython",
    "version": 3
   },
   "file_extension": ".py",
   "mimetype": "text/x-python",
   "name": "python",
   "nbconvert_exporter": "python",
   "pygments_lexer": "ipython3",
   "version": "3.9.18"
  }
 },
 "nbformat": 4,
 "nbformat_minor": 5
}
